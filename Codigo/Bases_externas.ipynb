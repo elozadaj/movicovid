{
 "cells": [
  {
   "cell_type": "markdown",
   "metadata": {},
   "source": [
    "# Bases externas\n",
    "\n",
    "Otras bases que podemos usar"
   ]
  },
  {
   "cell_type": "markdown",
   "metadata": {},
   "source": [
    "| Base       | Nombre                                                 | Mas reciente | Fuente  | Cobertura                                 | Vars de interes                                                                                             | Link                                                                                                                  | Metadatos                                                                                        |\n",
    "| ---------- | ------------------------------------------------------ | ------------ | ------- | ----------------------------------------- | ----------------------------------------------------------------------------------------------------------- | --------------------------------------------------------------------------------------------------------------------- | ------------------------------------------------------------------------------------------------ |\n",
    "| DENUE      | Directorio Estadístico Nacional de Unidades Económicas | 2019         | INEGI   |                                           | Establecimientos por clase de actividad económica                                                           | https://www.inegi.org.mx/datos/default.html#Microdatos                                                                | https://www.inegi.org.mx/rnm/index.php/catalog/477                                               |\n",
    "|            |                                                        |              |         |                                           | Personal ocupado                                                                                            |                                                                                                                       |                                                                                                  |\n",
    "|            |                                                        |              |         |                                           | Tipo de establecimiento                                                                                     |                                                                                                                       |                                                                                                  |\n",
    "| ENIGH      | Encuesta Nacional de Ingresos y Gastos de los Hogares  | 2018         | INEGI   | Nacional y a nivel de entidad federativa. | Ingreso corriente por hogar por decil                                                                       | https://www.inegi.org.mx/programas/enigh/nc/2018/                                                                     |                                                                                                  |\n",
    "|            | Censos Económicos                                      | 2019         | INEGI   | Nacional                                  | Unidades económicas                                                                                         |                                                                                                                       |                                                                                                  |\n",
    "|            |                                                        |              |         |                                           | Personal Ocupado                                                                                            |                                                                                                                       |                                                                                                  |\n",
    "|            |                                                        |              |         |                                           | Remuneraciones                                                                                              |                                                                                                                       |                                                                                                  |\n",
    "| Desarrollo | Rezago social a ​nivel zonas urbanas                   | 2010         | CONEVAL | Nacional y a nivel de entidad federativa. | Indice de Rezago Social                                                                                     | https://www.coneval.org.mx/Medicion/IRS/Paginas/Rezago\\_social\\_AGEB\\_2010.aspx                                       |                                                                                                  |\n",
    "| Desarrollo | Pbreza a nivel municipal                               | 2015         | CONEVAL |                                           |                                                                                                             | https://www.coneval.org.mx/Medicion/Paginas/Pobreza-municipal.aspx                                                    |                                                                                                  |\n",
    "| COVID19    | Casos activos de Covid-19                              | 2020         | CDMX    | CDMX                                      | Casos activos de Covid-19 en Ciudad de México a nivel colonia                                               | https://datos.cdmx.gob.mx/explore/dataset/covid-19-sinave-ciudad-de-mexico-a-nivel-colonia/table/?disjunctive.colonia |                                                                                                  |\n",
    "| COVID19    | Casos activos de Covid-19                              | 2020         | CDMX    | CDMX                                      | Agregación por Alcaldía de casos asociados a covid-19                                                       | https://datos.cdmx.gob.mx/explore/dataset/mapa-covid/table/                                                           |                                                                                                  |\n",
    "| COVID19    |                                                        | 2020         | CDMX    | CDMX                                      | Establecimientos suspendidos por el Instituto de Verificación Administrativa ante la emergencia de COVID-19 | https://datos.cdmx.gob.mx/explore/dataset/establecimientos-suspendidos-invea-covid19/table/                           |                                                                                                  |\n",
    "| COVID19    |                                                        | 2020         | CDMX    | CDMX                                      | Estaciones de transporte público temporalmente cerradas durante la fase 3 de COVID-19                       | https://datos.cdmx.gob.mx/explore/dataset/estaciones-tp-temporalmente-cerradas-cdmx-covid-19/table/                   |                                                                                                  |\n",
    "| Desarrollo | Índice de Desarrollo Social en la Ciudad               |              | CDMX    | CDMX                                      | 8 dimensiones de lapobreza                                                                                  | https://datos.cdmx.gob.mx/explore/dataset/vivienda-indice-de-desarrollo-social-en-la-ciudad/information/              | https://www.evalua.cdmx.gob.mx/storage/app/uploads/public/5d5/2ef/613/5d52ef6138d95302216150.pdf |"
   ]
  },
  {
   "cell_type": "code",
   "execution_count": null,
   "metadata": {},
   "outputs": [],
   "source": []
  }
 ],
 "metadata": {
  "kernelspec": {
   "display_name": "Python 3",
   "language": "python",
   "name": "python3"
  },
  "language_info": {
   "codemirror_mode": {
    "name": "ipython",
    "version": 3
   },
   "file_extension": ".py",
   "mimetype": "text/x-python",
   "name": "python",
   "nbconvert_exporter": "python",
   "pygments_lexer": "ipython3",
   "version": "3.7.6"
  }
 },
 "nbformat": 4,
 "nbformat_minor": 4
}
