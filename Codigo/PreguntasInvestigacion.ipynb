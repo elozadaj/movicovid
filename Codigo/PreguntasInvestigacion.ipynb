{
 "cells": [
  {
   "cell_type": "code",
   "execution_count": 7,
   "metadata": {
    "scrolled": true
   },
   "outputs": [
    {
     "data": {
      "text/html": [
       "<script>jQuery(function() {if (jQuery(\"body.notebook_app\").length == 0) { jQuery(\".input_area\").toggle(); jQuery(\".prompt\").toggle();}});</script>"
      ]
     },
     "metadata": {},
     "output_type": "display_data"
    },
    {
     "data": {
      "text/html": [
       "<button onclick=\"jQuery('.input_area').toggle(); jQuery('.prompt').toggle();\">Toggle code</button>"
      ]
     },
     "metadata": {},
     "output_type": "display_data"
    }
   ],
   "source": [
    "from IPython.display import display\n",
    "from IPython.display import HTML\n",
    "import IPython.core.display as di # Example: di.display_html('<h3>%s:</h3>' % str, raw=True)\n",
    "\n",
    "# This line will hide code by default when the notebook is exported as HTML\n",
    "di.display_html('<script>jQuery(function() {if (jQuery(\"body.notebook_app\").length == 0) { jQuery(\".input_area\").toggle(); jQuery(\".prompt\").toggle();}});</script>', raw=True)\n",
    "\n",
    "# This line will add a button to toggle visibility of code blocks, for use with the HTML export version\n",
    "di.display_html('''<button onclick=\"jQuery('.input_area').toggle(); jQuery('.prompt').toggle();\">Toggle code</button>''', raw=True)"
   ]
  },
  {
   "cell_type": "code",
   "execution_count": 2,
   "metadata": {},
   "outputs": [],
   "source": [
    "import pandas as pd\n",
    "import numpy as np\n",
    "import boto3\n",
    "import datetime\n",
    "import matplotlib.pyplot as plt\n",
    "from matplotlib.dates import DateFormatter, DayLocator\n",
    "import seaborn as sns\n",
    "import fun_eda, fun_s3"
   ]
  },
  {
   "cell_type": "code",
   "execution_count": null,
   "metadata": {},
   "outputs": [],
   "source": [
    "####################################  CARGAMOS BASE ORIGINAL\n",
    "bucket_name = 'movicovid'\n",
    "fname = '{}/{}/{}'.format('data', 'dataforgood', 'movimientos_entre_administraciones_08062020.csv')\n",
    "original_data = fun_s3.abre_file_como_df(bucket_name, fname)\n",
    "\n",
    "####################################   SELECCIONAMOS VARIABLES DE INTERES\n",
    "data = original_data[['difference', 'baseline_people_moving', 'crisis_people_moving', 'starting_region_name', 'percent_change',\n",
    "                     'ending_region_name', 'length_km', 'hora','fecha']]\n",
    "\n",
    "####################################  DROP REGISTROS DUPLICADOS\n",
    "# elimina todos, menos el primero\n",
    "data.drop_duplicates(subset = ['difference', 'baseline_people_moving', 'crisis_people_moving', 'starting_region_name',\n",
    "                               'percent_change', 'ending_region_name', 'length_km', 'hr','fecha'], \n",
    "                              keep = 'first', inplace = True) \n",
    "\n",
    "####################################   CAMBIO TIPO DE VARIABLES\n",
    "data['starting_region_name'] = data['starting_region_name'].astype('category')\n",
    "data['ending_region_name'] = data['ending_region_name'].astype('category')\n",
    "data['fecha'] = pd.to_datetime(data['fecha'])\n",
    "data['hr'] = original_data['hora'].str.slice(start=0, stop=2).astype(int)"
   ]
  },
  {
   "cell_type": "code",
   "execution_count": null,
   "metadata": {},
   "outputs": [],
   "source": [
    "delegaciones = [\"Álvaro Obregón\", \"Azcapotzalco\", \"Benito Juárez\", \"Coyoacán\", \"Cuajimalpa de Morelos\", \"Cuauhtémoc\",\n",
    "                \"Gustavo A. Madero\", \"Iztacalco\", \"Iztapalapa\", \"La Magdalena Contreras\", \"Miguel Hidalgo\", \"Milpa Alta\",\n",
    "                \"Tláhuac\", \"Tlalpan\", \"Venustiano Carranza\", \"Xochimilco\"]"
   ]
  },
  {
   "cell_type": "code",
   "execution_count": null,
   "metadata": {},
   "outputs": [],
   "source": [
    "####################################   TRANSFORMACION DE VARIABLES\n",
    "#### Añado columnas que indican si el Origen/Destino es en CDMX\n",
    "data = data.assign(ori_cdmx=np.where(data[\"starting_region_name\"].isin(delegaciones), 'CDMX', 'Otro'), \n",
    "                   des_cdmx=np.where(data[\"ending_region_name\"].isin(delegaciones), 'CDMX', 'Otro'))\n",
    "\n",
    "### Añado una columna que contabilice el numero de semanas\n",
    "data['num_semana'] = data['fecha'].dt.week\n",
    "\n",
    "### Añado una columna para el dia de la semana\n",
    "dict_days = {0:'Lunes',1:'Martes',2:'Miércoles',3:'Jueves',4:'Viernes',5:'Sábado',6:'Domingo'}\n",
    "data['dia_semana'] = data['fecha'].dt.dayofweek.map(dict_days)\n",
    "\n",
    "### Anado una columna para identificar la ruta\n",
    "data['ruta'] = data['starting_region_name'].astype(str) + \" - \" + data['ending_region_name'].astype(str)\n"
   ]
  },
  {
   "cell_type": "markdown",
   "metadata": {},
   "source": [
    "# Movicovid\n",
    "\n",
    "### A. Contexto\n",
    "\n",
    "El 23 de Marzo, se inicio oficialmente, la Jornada Nacional de Sana distancia, que se planteó inicialmente para el período del 23 de Marzo al 19 de Abril. Las medidas de esta campaña incluyeron la suspensión temporal de actividades escolares, la suspensión temporal de actividades no esenciales, la reprogramación de los eventos de concentración masiva, y el **repliegue familiar en casa**, es decir, el mantenerse en casa tratando de respetar la sana distancia de 1.5 metros entre los miembros de la familia.\n",
    "\n",
    "  - **23 de Marzo 2020**. Inicia Fase 2 y la Jornada Nacional de Sana Distancia [1](http://www.imss.gob.mx/prensa/archivo/202003/142), [2](https://www.dof.gob.mx/nota_detalle.php?codigo=5590339&fecha=24/03/2020), [3](https://www.gob.mx/salud/prensa/095-inicia-fase-2-por-coronavirus-covid-19).\n",
    "  - **30 de Marzo 2020**. Declaración de Emergencia Sanitaria [4](https://dof.gob.mx/nota_detalle.php?codigo=5590745&fecha=30/03/2020).\n",
    "  - **21 de Abril 2020**. Inicia Fase 3 por COVID-19 [5](https://www.gob.mx/salud/prensa/110-inicia-la-fase-3-por-covid-19).  Se extiende la Jornada Nacional de Sana Distancia hasta el 30 de mayo de 2020, [6](https://www.dof.gob.mx/nota_detalle.php?codigo=5592067&fecha=21/04/2020).\n",
    "  - **1 de Junio 2020**. Concluye la Jornada Nacional de Sana Distancia. Inician actividades los sectores neo-esenciales como minería, construcción e industria automotriz, bajo protocolos de seguridad enfocados a evitar contagios en los centros de trabajo [7](http://www.imss.gob.mx/prensa/archivo/202005/356).\n",
    "\n",
    "Por su parte, y acorde con la política nacional de *#QuédateEnCasa* y *#SanaDistancia*, el Gobierno de la Ciudad de México también suspendió actividades y establecimientos del 23 de Marzo al 19 de Abril, [8](https://www.cdmx.gob.mx/portal/articulo/cierre-temporal-de-actividades-y-establecimientos-por-covid-19). El 31 de Marzo, se dio a conocer que únicamente se mantendrían activos los establecimientos relacionados con servicios de salud, alimentación e indispensables, como gasolineras y bancos, cerrando centros comerciales y otros estableciomientos considerados no escenciales, [9](https://www.cdmx.gob.mx/portal/articulo/cierre-de-centros-comerciales-por-emergencia-sanitaria). El 24 de abril, se cerraron el 20% de las estaciones del Metro, Metrobús y Tren Ligero, y el Hoy No Circula se aplicó para todos los vehículos particulares, con algunas excepciones, [10](https://www.cdmx.gob.mx/portal/articulo/nuevas-medidas-para-la-fase-3-por-covid-9). El 22 de Mayo, se dio a conocer el plan gradual hacia la nueva normalidad, [11](https://www.cdmx.gob.mx/portal/articulo/plan-gradual-hacia-la-nueva-normalidad), [12](https://covid19.cdmx.gob.mx/storage/app/media/plan%20gradual%20hacia%20la%20nueva%20normalidad%20en%20la%20ciudad%20de%20mexico/plangradualhacialanuevanormalidadenlaciudaddemexico20.pdf). El 1 de Julio, se retomaron actividades económicas esenciales, [13](https://www.cdmx.gob.mx/portal/articulo/lineamientos-para-industrias-que-retoman-actividades).\n",
    "\n",
    "\n",
    "Sin embargo, algunas fuentes periodísticas han afirmado que parte de la población no pudo quedarse en casa durante el período, [14](https://www.elfinanciero.com.mx/nacional/en-mexico-apenas-35-ha-respetado-el-quedate-en-casa-revela-google), [15](https://www.animalpolitico.com/2020/04/municipios-cumplen-quedate-en-casa-covid-19/).\n",
    "\n",
    "\n",
    "### B. Objetivo\n",
    "\n",
    "Caracterizar a la población que lamentablemente, no pudo cumplir los lineamientos de #SusanaDistancia y #QuedateEnCasa sugeridos por la Secretaría de Salud.\n",
    "\n",
    "\n",
    "*Otros datos de movilidad semanales: [Apple](https://www.apple.com/covid19/mobility), [Google](https://www.gstatic.com/covid19/mobility/2020-06-07_MX_Mobility_Report_en.pdf).\n",
    "\n",
    "\n",
    "### C. Preguntas a investigar\n",
    "\n",
    "### 1. De las rutas\n"
   ]
  },
  {
   "cell_type": "markdown",
   "metadata": {},
   "source": [
    "#### 1.1. Definición de rutas\n",
    "   \n",
    "   - ¿Consideramos todas las trayectorias origen-destino como ruta? ¿las más transitadas?\n",
    "   - Rutas de corto alcance vs. largo alcance (km a la redonda)\n",
    "   - ¿Qué se puede inferir de los movimientos que ocurren con mayor/menor frecuencia?\n",
    "     - 80-20 de las rutas\n",
    "     - 90-10 de las rutas"
   ]
  },
  {
   "cell_type": "markdown",
   "metadata": {},
   "source": [
    "#### 1.2. Características de las rutas en el tiempo\n",
    "       \n",
    "   - ¿Se debe hacer un baseline para comparar?\n",
    "   - Rutas sin cambios, rutas con cambios"
   ]
  },
  {
   "cell_type": "markdown",
   "metadata": {},
   "source": [
    "#### 1.3. Características de las rutas en cuanto a su destino y origen\n",
    "\n",
    "   - Rutas de trabajo (zona habitacional -> trabajo), de recreación (zona habitacional -> espacios públicos), de emergencias (zona habitacional -> hospitales)\n",
    "   - Rutas por actividad económica\n",
    "   - Rutas en transporte público, Uber/Lyft, taxis, particular"
   ]
  },
  {
   "cell_type": "markdown",
   "metadata": {},
   "source": [
    "Existen 284,495 registros de rutas los cuales se distribuyen de la siguiente manera:"
   ]
  },
  {
   "cell_type": "code",
   "execution_count": null,
   "metadata": {},
   "outputs": [],
   "source": [
    "total_rutas = len(data)\n",
    "rutas = data.groupby(['ori_cdmx', 'des_cdmx']).size()\n",
    "rutas = rutas.reset_index()  \n",
    "rutas.columns = ['Origen', 'Destino', 'Rutas']\n",
    "rutas = rutas.pivot_table(index='Origen', columns='Destino', values='Rutas')\n",
    "rutas_prop = rutas.divide(total_rutas) * 100"
   ]
  },
  {
   "cell_type": "code",
   "execution_count": null,
   "metadata": {},
   "outputs": [],
   "source": [
    "fig, ax = plt.subplots(1, 2, figsize=(15, 4))\n",
    "\n",
    "sns.heatmap( rutas, annot=True, fmt='0,.0f', cmap='RdYlGn', ax=ax[0])\n",
    "ax[0].set_title('Número de rutas\\n(Total {:0,.0f})'.format(total_rutas), fontsize=14)\n",
    "\n",
    "sns.heatmap( rutas_prop, annot=True, fmt='0,.1f', cmap='RdYlGn', ax=ax[1])\n",
    "ax[1].set_title('Proporción de rutas\\n(Total {:0,.1f})'.format(total_rutas), fontsize=14)\n",
    "for t in ax[1].texts: t.set_text(t.get_text() + \" %\")\n",
    "\n",
    "\n",
    "plt.show()"
   ]
  },
  {
   "cell_type": "markdown",
   "metadata": {},
   "source": [
    "Separados por hora, la distribución es así:"
   ]
  },
  {
   "cell_type": "code",
   "execution_count": null,
   "metadata": {},
   "outputs": [],
   "source": [
    "ruta_hora = data.groupby(['ori_cdmx', 'des_cdmx', 'hr']).size()\n",
    "ruta_hora = ruta_hora.reset_index()  \n",
    "ruta_hora.columns = ['Origen', 'Destino', 'hr', 'Rutas']\n",
    "\n",
    "ruta0 = ruta_hora[ruta_hora['hr']==0].pivot_table(index='Origen', columns='Destino', values='Rutas')\n",
    "ruta8 = ruta_hora[ruta_hora['hr']==8].pivot_table(index='Origen', columns='Destino', values='Rutas')\n",
    "ruta16 = ruta_hora[ruta_hora['hr']==16].pivot_table(index='Origen', columns='Destino', values='Rutas')\n",
    "\n",
    "ruta0_prop = ruta0.divide(ruta0.values.sum())*100\n",
    "ruta8_prop = ruta8.divide(ruta8.values.sum())*100\n",
    "ruta16_prop = ruta16.divide(ruta16.values.sum())*100"
   ]
  },
  {
   "cell_type": "code",
   "execution_count": null,
   "metadata": {},
   "outputs": [],
   "source": [
    "fig, ax = plt.subplots(1, 3, figsize=(15, 4))\n",
    "\n",
    "sns.heatmap( ruta0_prop, annot=True, fmt='0,.1f', cmap='RdYlGn', ax=ax[0])\n",
    "ax[0].set_title('00 horas')\n",
    "for t in ax[0].texts: t.set_text(t.get_text() + \" %\")\n",
    "\n",
    "sns.heatmap( ruta8_prop, annot=True, fmt='0,.1f', cmap='RdYlGn', ax=ax[1])\n",
    "ax[1].set_title('08 horas')\n",
    "for t in ax[1].texts: t.set_text(t.get_text() + \" %\")\n",
    "\n",
    "sns.heatmap( ruta16_prop, annot=True, fmt='0,.1f', cmap='RdYlGn', ax=ax[2])\n",
    "ax[2].set_title('16 horas')\n",
    "for t in ax[2].texts: t.set_text(t.get_text() + \" %\")\n",
    "\n",
    "fig.suptitle('Proporción de rutas por hora', fontsize=14)\n",
    "plt.show()\n",
    "#plt.tight_layout()"
   ]
  },
  {
   "cell_type": "markdown",
   "metadata": {},
   "source": [
    "Del número de personas que transitan las rutas"
   ]
  },
  {
   "cell_type": "code",
   "execution_count": null,
   "metadata": {},
   "outputs": [],
   "source": [
    "ruta_hora = data.groupby(['ori_cdmx', 'des_cdmx', 'hr']).sum()['crisis_people_moving']\n",
    "ruta_hora = ruta_hora.reset_index()  \n",
    "ruta_hora.columns = ['Origen', 'Destino', 'hr', 'Rutas']\n",
    "\n",
    "ruta0 = ruta_hora[ruta_hora['hr']==0].pivot_table(index='Origen', columns='Destino', values='Rutas')\n",
    "ruta8 = ruta_hora[ruta_hora['hr']==8].pivot_table(index='Origen', columns='Destino', values='Rutas')\n",
    "ruta16 = ruta_hora[ruta_hora['hr']==16].pivot_table(index='Origen', columns='Destino', values='Rutas')\n",
    "\n",
    "ruta0_prop = ruta0.divide(ruta0.values.sum())*100\n",
    "ruta8_prop = ruta8.divide(ruta8.values.sum())*100\n",
    "ruta16_prop = ruta16.divide(ruta16.values.sum())*100"
   ]
  },
  {
   "cell_type": "code",
   "execution_count": null,
   "metadata": {},
   "outputs": [],
   "source": [
    "fig, ax = plt.subplots(1, 3, figsize=(15, 4))\n",
    "\n",
    "sns.heatmap( ruta0_prop, annot=True, fmt='0,.1f', cmap='RdYlGn', ax=ax[0])\n",
    "ax[0].set_title('00 horas')\n",
    "for t in ax[0].texts: t.set_text(t.get_text() + \" %\")\n",
    "\n",
    "sns.heatmap( ruta8_prop, annot=True, fmt='0,.1f', cmap='RdYlGn', ax=ax[1])\n",
    "ax[1].set_title('08 horas')\n",
    "for t in ax[1].texts: t.set_text(t.get_text() + \" %\")\n",
    "\n",
    "sns.heatmap( ruta16_prop, annot=True, fmt='0,.1f', cmap='RdYlGn', ax=ax[2])\n",
    "ax[2].set_title('16 horas')\n",
    "for t in ax[2].texts: t.set_text(t.get_text() + \" %\")\n",
    "\n",
    "fig.suptitle('Proporción de personas transitando por hora', fontsize=14)\n",
    "plt.show()"
   ]
  },
  {
   "cell_type": "markdown",
   "metadata": {},
   "source": [
    "Rutas únicas según Origen-Destino"
   ]
  },
  {
   "cell_type": "code",
   "execution_count": null,
   "metadata": {},
   "outputs": [],
   "source": [
    "print(\"Existen {:,.0f} rutas únicas\". format(len(data['ruta'].unique())))"
   ]
  },
  {
   "cell_type": "markdown",
   "metadata": {},
   "source": [
    "Rutas únicas según Origen-Destino y Hora"
   ]
  },
  {
   "cell_type": "code",
   "execution_count": null,
   "metadata": {},
   "outputs": [],
   "source": [
    "print(\"{:,.0f} ruta unicas a las 00 horas\".format(len(data[data['hr']==0]['ruta'].unique())))\n",
    "print(\"{:,.0f} ruta unicas a las 08 horas\".format(len(data[data['hr']==8]['ruta'].unique())))\n",
    "print(\"{:,.0f} ruta unicas a las 16 horas\".format(len(data[data['hr']==16]['ruta'].unique())))"
   ]
  },
  {
   "cell_type": "markdown",
   "metadata": {},
   "source": [
    "### 2. De la población\n",
    "\n",
    "#### 2.1. Características de la población que mantuvo rutas constantes durante la jornada de #SusanaDistancia\n",
    "\n",
    "   - Población por tipos de rutas: características socio-demográficas, niveles de pobreza\n",
    "  "
   ]
  },
  {
   "cell_type": "markdown",
   "metadata": {},
   "source": [
    "#### 2..2 Características de la población que tuvo rutas durante fechas que presentaron picos de conteo de casos, o 15 días antes a esas fechas\n",
    "\n",
    "   - "
   ]
  },
  {
   "cell_type": "markdown",
   "metadata": {},
   "source": [
    "#### 2.3 Identificar correlaciones entre rutas y casos de COVID-19\n",
    "\n",
    "   - Rutas vs nuevos casos reportados \n",
    "   - Rutas vs defunciones"
   ]
  },
  {
   "cell_type": "markdown",
   "metadata": {},
   "source": [
    "### D. Recomendaciones\n",
    "   -¿Qué recomendaciones de política de movilidad se pueden sugerir dadas las respuestas a las preguntas anteriores? \n"
   ]
  },
  {
   "cell_type": "code",
   "execution_count": null,
   "metadata": {},
   "outputs": [],
   "source": []
  }
 ],
 "metadata": {
  "kernelspec": {
   "display_name": "Python 3",
   "language": "python",
   "name": "python3"
  },
  "language_info": {
   "codemirror_mode": {
    "name": "ipython",
    "version": 3
   },
   "file_extension": ".py",
   "mimetype": "text/x-python",
   "name": "python",
   "nbconvert_exporter": "python",
   "pygments_lexer": "ipython3",
   "version": "3.7.6"
  }
 },
 "nbformat": 4,
 "nbformat_minor": 4
}
